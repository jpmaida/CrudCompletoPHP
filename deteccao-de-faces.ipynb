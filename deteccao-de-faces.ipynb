{
  "nbformat": 4,
  "nbformat_minor": 0,
  "metadata": {
    "colab": {
      "provenance": [],
      "authorship_tag": "ABX9TyNqK79kSKjwGzwYa8MojvU4",
      "include_colab_link": true
    },
    "kernelspec": {
      "name": "python3",
      "display_name": "Python 3"
    },
    "language_info": {
      "name": "python"
    }
  },
  "cells": [
    {
      "cell_type": "markdown",
      "metadata": {
        "id": "view-in-github",
        "colab_type": "text"
      },
      "source": [
        "<a href=\"https://colab.research.google.com/github/jpmaida/CrudCompletoPHP/blob/master/deteccao-de-faces.ipynb\" target=\"_parent\"><img src=\"https://colab.research.google.com/assets/colab-badge.svg\" alt=\"Open In Colab\"/></a>"
      ]
    },
    {
      "cell_type": "markdown",
      "source": [
        "# Importação das bibliotecas"
      ],
      "metadata": {
        "id": "Hr3srPhYCEyr"
      }
    },
    {
      "cell_type": "code",
      "execution_count": 2,
      "metadata": {
        "id": "Zrxb0c7o_-FR"
      },
      "outputs": [],
      "source": [
        "import cv2 # OpenCV\n",
        "import numpy as np\n",
        "from google.colab.patches import cv2_imshow"
      ]
    },
    {
      "cell_type": "code",
      "source": [
        "cv2.__version__"
      ],
      "metadata": {
        "id": "r74anovqCVjK",
        "outputId": "d62434c6-92c0-42dc-c766-941a3041f566",
        "colab": {
          "base_uri": "https://localhost:8080/",
          "height": 35
        }
      },
      "execution_count": 3,
      "outputs": [
        {
          "output_type": "execute_result",
          "data": {
            "text/plain": [
              "'4.11.0'"
            ],
            "application/vnd.google.colaboratory.intrinsic+json": {
              "type": "string"
            }
          },
          "metadata": {},
          "execution_count": 3
        }
      ]
    },
    {
      "cell_type": "markdown",
      "source": [
        "# Detecção de faces com Haar cascade (OpenCV)"
      ],
      "metadata": {
        "id": "un_c_So5Caid"
      }
    },
    {
      "cell_type": "code",
      "source": [
        "imagem = cv2.imread('imagem.jpg')"
      ],
      "metadata": {
        "id": "ehrxqU3nCeev"
      },
      "execution_count": null,
      "outputs": []
    }
  ]
}